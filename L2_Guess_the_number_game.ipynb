{
  "nbformat": 4,
  "nbformat_minor": 0,
  "metadata": {
    "colab": {
      "provenance": []
    },
    "kernelspec": {
      "name": "python3",
      "display_name": "Python 3"
    },
    "language_info": {
      "name": "python"
    }
  },
  "cells": [
    {
      "cell_type": "code",
      "execution_count": 4,
      "metadata": {
        "id": "lNMjj6iBDvqf",
        "colab": {
          "base_uri": "https://localhost:8080/"
        },
        "outputId": "fe1befee-ea66-4507-abac-ecc58243c5f6"
      },
      "outputs": [
        {
          "output_type": "stream",
          "name": "stdout",
          "text": [
            "ans =  63 \n",
            "\n",
            "\n",
            "Guess a number between 1 and 99: 64\n",
            "Nope. Try again!\n",
            "\n",
            "Guess a number between 1 and 64: 62\n",
            "Nope. Try again!\n",
            "\n",
            "Guess a number between 62 and 64: 63\n",
            "Congratulations! You won!\n"
          ]
        }
      ],
      "source": [
        "import random\n",
        "\n",
        "num = random.randint(1, 99)\n",
        "lowb = 1\n",
        "upb = 99 \n",
        "guess = None\n",
        "\n",
        "while guess != num:\n",
        "    guess = int(input(f\"\\nGuess a number between {lowb} and {upb}: \"))\n",
        "    if guess < lowb or guess > upb:\n",
        "      print (\"Wrong number. Please guess again\")\n",
        "    else:\n",
        "      if guess == num:\n",
        "        print(\"Congratulations! You won!\")\n",
        "        break\n",
        "      else:\n",
        "        print(\"Nope. Try again!\")\n",
        "        \n",
        "        if guess > num:\n",
        "          upb = guess\n",
        "        else:\n",
        "          lowb = guess\n",
        "\n",
        "  "
      ]
    }
  ]
}